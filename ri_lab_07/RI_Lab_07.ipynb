{
  "nbformat": 4,
  "nbformat_minor": 0,
  "metadata": {
    "colab": {
      "name": "RI_Lab_07.ipynb",
      "version": "0.3.2",
      "provenance": [],
      "collapsed_sections": [],
      "toc_visible": true
    },
    "kernelspec": {
      "name": "python3",
      "display_name": "Python 3"
    }
  },
  "cells": [
    {
      "cell_type": "code",
      "metadata": {
        "id": "6ZPeJeCwaH4S",
        "colab_type": "code",
        "outputId": "8eb619ee-9127-4627-e1ad-d656c2d136c5",
        "colab": {
          "base_uri": "https://localhost:8080/",
          "height": 87
        }
      },
      "source": [
        "#Importacoes necessarias\n",
        "import csv\n",
        "import pandas as pd\n",
        "import numpy as np\n",
        "import nltk\n",
        "import re\n",
        "import collections\n",
        "import math\n",
        "import matplotlib.pyplot as plt\n",
        "import seaborn as sns\n",
        "from nltk.tokenize import RegexpTokenizer\n",
        "from nltk.stem import PorterStemmer \n",
        "from nltk.tokenize import word_tokenize\n",
        "from nltk.corpus import stopwords\n",
        "nltk.download('stopwords')\n",
        "nltk.download('rslp')\n",
        "import heapq\n",
        "import time\n",
        "import bisect\n",
        "\n",
        "#Leitura do Arquivo CSV\n",
        "results = pd.read_csv('https://raw.githubusercontent.com/BielMaracaja/RI/master/ri_lab_06/results.csv')\n",
        "#results = results.astype(str)\n",
        "documents = results['text']\n",
        "\n",
        "json = pd.read_json('https://raw.githubusercontent.com/BielMaracaja/RI/master/results_final.json')\n",
        "feedback = {json['query'][i]:json['docs'][i] for i in range(10)}\n",
        "\n",
        "tokenizador = RegexpTokenizer(r'([A-Za-zÁáÉéÍíÓóÚúÃãÕõÇçÂâÊê]{3,27})')\n",
        "\n",
        "stopwords = nltk.corpus.stopwords.words('portuguese') \n",
        "\n",
        "indices = {}\n",
        "\n",
        "T = results.text.count()\n",
        "\n",
        "for i in range(len(results)):\n",
        "  text = results.text[i]\n",
        "  words = [word for word in tokenizador.tokenize(text.lower())\n",
        "           if not bool(re.search(r'\\d', word))\n",
        "           and word not in stopwords and len(word) >= 3]  \n",
        "  \n",
        "  for t in words:\n",
        "    if t not in indices.keys():\n",
        "      indices[t] = []\n",
        "    indices[t].append(i)    \n",
        "for elem in indices.items():\n",
        "  d = dict(collections.Counter(elem[1]))\n",
        "  indices[elem[0]] = list(d.items())  \n",
        "for word in indices:\n",
        "  k = len(indices[word])\n",
        "  IDF = round(np.log((T+1)/k),2)\n",
        "  indices[word].append(IDF)"
      ],
      "execution_count": 18,
      "outputs": [
        {
          "output_type": "stream",
          "text": [
            "[nltk_data] Downloading package stopwords to /root/nltk_data...\n",
            "[nltk_data]   Package stopwords is already up-to-date!\n",
            "[nltk_data] Downloading package rslp to /root/nltk_data...\n",
            "[nltk_data]   Package rslp is already up-to-date!\n"
          ],
          "name": "stdout"
        }
      ]
    },
    {
      "cell_type": "markdown",
      "metadata": {
        "id": "ZAy-yqT6eX9Z",
        "colab_type": "text"
      },
      "source": [
        "#1\n",
        "**Escolha um documento dentre aqueles da base do aluno Bernardi e crie uma consulta que você acha que tem boas chances de recuperar este documento. Em seguida, avalie os resultados de tal consulta usando a métrica de avaliação Reciprocal Rank**"
      ]
    },
    {
      "cell_type": "code",
      "metadata": {
        "id": "WlxkxaGHejbv",
        "colab_type": "code",
        "outputId": "8b6e0b74-8e1e-430b-8f4b-f604e61a6bdd",
        "colab": {
          "base_uri": "https://localhost:8080/",
          "height": 34
        }
      },
      "source": [
        "ndoc = 202\n",
        "document = results.loc[ndoc]\n",
        "query = 'bolsa família'\n",
        "\n",
        "document.title"
      ],
      "execution_count": 19,
      "outputs": [
        {
          "output_type": "execute_result",
          "data": {
            "text/plain": [
              "'Bolsonaro e o desenvolvimento dos filhos do Bolsa Família: o que os pesquisadores realmente dizem'"
            ]
          },
          "metadata": {
            "tags": []
          },
          "execution_count": 19
        }
      ]
    },
    {
      "cell_type": "markdown",
      "metadata": {
        "id": "gAPz-98gnWTM",
        "colab_type": "text"
      },
      "source": [
        "Pegaremos as definições dos modelos vetoriais do Lab passado."
      ]
    },
    {
      "cell_type": "code",
      "metadata": {
        "id": "SWjBzBLfnf-p",
        "colab_type": "code",
        "colab": {}
      },
      "source": [
        "def vsm_binario(query, document):\n",
        "  pontuacao = 0\n",
        "  \n",
        "  query_tokens = query.split()\n",
        "  \n",
        "  tokens_doc = document.split()\n",
        "  \n",
        "  for token in query_tokens:\n",
        "    pontuacao += (token in tokens_doc)\n",
        "  \n",
        "  return pontuacao"
      ],
      "execution_count": 0,
      "outputs": []
    },
    {
      "cell_type": "code",
      "metadata": {
        "id": "mO_1t9_Sng5m",
        "colab_type": "code",
        "colab": {}
      },
      "source": [
        "def vsm_tf(query, document):\n",
        "  pontuacao = 0\n",
        "  \n",
        "  tokens_doc = document.split()\n",
        "  \n",
        "  query_tokens = query.split()\n",
        "  \n",
        "  for palavra in query_tokens:\n",
        "    pontuacao += tokens_doc.count(palavra)\n",
        "  \n",
        "  return pontuacao"
      ],
      "execution_count": 0,
      "outputs": []
    },
    {
      "cell_type": "code",
      "metadata": {
        "id": "eV6D7x7r3Dka",
        "colab_type": "code",
        "colab": {}
      },
      "source": [
        "def vsm_tfidf(query, document):\n",
        "  score = 0\n",
        "  \n",
        "  doc_tokens = document.split()\n",
        "  \n",
        "  query_tokens = query.split()\n",
        "  \n",
        "  for word in query_tokens:\n",
        "    \n",
        "    cwd = doc_tokens.count(word)\n",
        "    \n",
        "    if word in indices:\n",
        "      score += cwd * indices[word][-1]\n",
        "  \n",
        "  return round(score,2)"
      ],
      "execution_count": 0,
      "outputs": []
    },
    {
      "cell_type": "code",
      "metadata": {
        "id": "3VFBKYxfnhOP",
        "colab_type": "code",
        "colab": {}
      },
      "source": [
        "def vsm_bm25(query, document, k):\n",
        "  pontuacao = 0\n",
        "  \n",
        "  tokens_doc = document.split()\n",
        "  \n",
        "  query_tokens = query.split()\n",
        "  \n",
        "  palavras = [palavra for palavra in query_tokens if palavra in tokens_doc]\n",
        "    \n",
        "  for palavra in palavras:\n",
        "    cwd = tokens_doc.count(palavra)\n",
        "    dfw = 0\n",
        "    \n",
        "    if palavra in indices:\n",
        "      dfw = len(indices[palavra][:-1])\n",
        "      pontuacao += (((k+1) * cwd) / (cwd + k)) * np.log10(((T+1) / dfw)) if dfw != 0 else 0\n",
        "  return round(pontuacao,2)"
      ],
      "execution_count": 0,
      "outputs": []
    },
    {
      "cell_type": "markdown",
      "metadata": {
        "id": "B-sxkeptqWDb",
        "colab_type": "text"
      },
      "source": [
        "Portanto, criaremos as tabelas com os top-k documentos de cada modelo."
      ]
    },
    {
      "cell_type": "code",
      "metadata": {
        "id": "V7kfctpYqekg",
        "colab_type": "code",
        "colab": {}
      },
      "source": [
        "def top_models_create(query,k):\n",
        "  db = []\n",
        "  \n",
        "  dtf = []\n",
        "  \n",
        "  dtfidf = []\n",
        "  \n",
        "  dbm25 = []\n",
        "  \n",
        "  for i in range(len(results)):\n",
        "    doc = results.text[i].lower()\n",
        "    \n",
        "    bisect.insort(db, (vsm_binario(query, doc), i))    \n",
        "    bisect.insort(dtf, (vsm_tf(query,doc), i))    \n",
        "    bisect.insort(dtfidf, (vsm_tfidf(query,doc), i))    \n",
        "    bisect.insort(dbm25, (vsm_bm25(query,doc,20), i))\n",
        "  \n",
        "  db.reverse()\n",
        "  \n",
        "  dtf.reverse()\n",
        "  \n",
        "  dtfidf.reverse()\n",
        "  \n",
        "  dbm25.reverse()\n",
        "  \n",
        "  return db[:k], dtf[:k], dtfidf[:k], dbm25[:k]"
      ],
      "execution_count": 0,
      "outputs": []
    },
    {
      "cell_type": "markdown",
      "metadata": {
        "id": "SuuvQ9_artR6",
        "colab_type": "text"
      },
      "source": [
        "**Buscando Resolução dos modelos**"
      ]
    },
    {
      "cell_type": "code",
      "metadata": {
        "id": "bgDXq8ZKrIB_",
        "colab_type": "code",
        "outputId": "af0240b9-2b07-4d46-ea42-445c533b9811",
        "colab": {
          "base_uri": "https://localhost:8080/",
          "height": 347
        }
      },
      "source": [
        "binario_top, tf_top, tfidf_top, bm_25_top = top_models_create(query,10)\n",
        "\n",
        "query_df = pd.DataFrame()\n",
        "\n",
        "query_df['Binario'] = binario_top\n",
        "query_df['TF'] = tf_top\n",
        "query_df['TF-IDF'] = tfidf_top\n",
        "query_df['BM25'] = bm_25_top\n",
        "\n",
        "query_df.index+=1\n",
        "query_df"
      ],
      "execution_count": 25,
      "outputs": [
        {
          "output_type": "execute_result",
          "data": {
            "text/html": [
              "<div>\n",
              "<style scoped>\n",
              "    .dataframe tbody tr th:only-of-type {\n",
              "        vertical-align: middle;\n",
              "    }\n",
              "\n",
              "    .dataframe tbody tr th {\n",
              "        vertical-align: top;\n",
              "    }\n",
              "\n",
              "    .dataframe thead th {\n",
              "        text-align: right;\n",
              "    }\n",
              "</style>\n",
              "<table border=\"1\" class=\"dataframe\">\n",
              "  <thead>\n",
              "    <tr style=\"text-align: right;\">\n",
              "      <th></th>\n",
              "      <th>Binario</th>\n",
              "      <th>TF</th>\n",
              "      <th>TF-IDF</th>\n",
              "      <th>BM25</th>\n",
              "    </tr>\n",
              "  </thead>\n",
              "  <tbody>\n",
              "    <tr>\n",
              "      <th>1</th>\n",
              "      <td>(2, 236)</td>\n",
              "      <td>(17, 202)</td>\n",
              "      <td>(35.04, 202)</td>\n",
              "      <td>(11.15, 202)</td>\n",
              "    </tr>\n",
              "    <tr>\n",
              "      <th>2</th>\n",
              "      <td>(2, 235)</td>\n",
              "      <td>(9, 248)</td>\n",
              "      <td>(14.31, 248)</td>\n",
              "      <td>(4.5, 248)</td>\n",
              "    </tr>\n",
              "    <tr>\n",
              "      <th>3</th>\n",
              "      <td>(2, 215)</td>\n",
              "      <td>(8, 206)</td>\n",
              "      <td>(12.72, 206)</td>\n",
              "      <td>(4.14, 206)</td>\n",
              "    </tr>\n",
              "    <tr>\n",
              "      <th>4</th>\n",
              "      <td>(2, 202)</td>\n",
              "      <td>(7, 5)</td>\n",
              "      <td>(11.13, 5)</td>\n",
              "      <td>(3.94, 236)</td>\n",
              "    </tr>\n",
              "    <tr>\n",
              "      <th>5</th>\n",
              "      <td>(2, 68)</td>\n",
              "      <td>(6, 150)</td>\n",
              "      <td>(9.73, 236)</td>\n",
              "      <td>(3.76, 5)</td>\n",
              "    </tr>\n",
              "    <tr>\n",
              "      <th>6</th>\n",
              "      <td>(2, 25)</td>\n",
              "      <td>(5, 236)</td>\n",
              "      <td>(9.54, 150)</td>\n",
              "      <td>(3.35, 150)</td>\n",
              "    </tr>\n",
              "    <tr>\n",
              "      <th>7</th>\n",
              "      <td>(1, 248)</td>\n",
              "      <td>(3, 225)</td>\n",
              "      <td>(7.44, 214)</td>\n",
              "      <td>(2.95, 214)</td>\n",
              "    </tr>\n",
              "    <tr>\n",
              "      <th>8</th>\n",
              "      <td>(1, 242)</td>\n",
              "      <td>(3, 214)</td>\n",
              "      <td>(7.44, 141)</td>\n",
              "      <td>(2.95, 141)</td>\n",
              "    </tr>\n",
              "    <tr>\n",
              "      <th>9</th>\n",
              "      <td>(1, 239)</td>\n",
              "      <td>(3, 141)</td>\n",
              "      <td>(7.44, 137)</td>\n",
              "      <td>(2.95, 137)</td>\n",
              "    </tr>\n",
              "    <tr>\n",
              "      <th>10</th>\n",
              "      <td>(1, 225)</td>\n",
              "      <td>(3, 137)</td>\n",
              "      <td>(4.96, 133)</td>\n",
              "      <td>(2.05, 133)</td>\n",
              "    </tr>\n",
              "  </tbody>\n",
              "</table>\n",
              "</div>"
            ],
            "text/plain": [
              "     Binario         TF        TF-IDF          BM25\n",
              "1   (2, 236)  (17, 202)  (35.04, 202)  (11.15, 202)\n",
              "2   (2, 235)   (9, 248)  (14.31, 248)    (4.5, 248)\n",
              "3   (2, 215)   (8, 206)  (12.72, 206)   (4.14, 206)\n",
              "4   (2, 202)     (7, 5)    (11.13, 5)   (3.94, 236)\n",
              "5    (2, 68)   (6, 150)   (9.73, 236)     (3.76, 5)\n",
              "6    (2, 25)   (5, 236)   (9.54, 150)   (3.35, 150)\n",
              "7   (1, 248)   (3, 225)   (7.44, 214)   (2.95, 214)\n",
              "8   (1, 242)   (3, 214)   (7.44, 141)   (2.95, 141)\n",
              "9   (1, 239)   (3, 141)   (7.44, 137)   (2.95, 137)\n",
              "10  (1, 225)   (3, 137)   (4.96, 133)   (2.05, 133)"
            ]
          },
          "metadata": {
            "tags": []
          },
          "execution_count": 25
        }
      ]
    },
    {
      "cell_type": "code",
      "metadata": {
        "id": "AUpalicSsNxl",
        "colab_type": "code",
        "outputId": "31b39774-23e3-4e7d-f914-23f69135ffca",
        "colab": {
          "base_uri": "https://localhost:8080/",
          "height": 77
        }
      },
      "source": [
        "#Classificacao Recíproca\n",
        "\n",
        "def clas_reciproco(tuples, docId):\n",
        "  n = 1.0;\n",
        "  \n",
        "  for r,doc in tuples:\n",
        "    \n",
        "    if doc == docId:\n",
        "      return  [round(1 / n, 2)]\n",
        "    \n",
        "    else:\n",
        "      n += 1\n",
        "\n",
        "clasf_df = pd.DataFrame()\n",
        "\n",
        "clasf_df['Binario'] = clas_reciproco(query_df['Binario'], ndoc)\n",
        "\n",
        "clasf_df['TF'] = clas_reciproco(query_df['TF'], ndoc)\n",
        "\n",
        "clasf_df['TF-IDF'] = clas_reciproco(query_df['TF-IDF'], ndoc)\n",
        "\n",
        "clasf_df['BM25'] = clas_reciproco(query_df['BM25'], ndoc)\n",
        "\n",
        "clasf_df.index+=1\n",
        "\n",
        "clasf_df"
      ],
      "execution_count": 26,
      "outputs": [
        {
          "output_type": "execute_result",
          "data": {
            "text/html": [
              "<div>\n",
              "<style scoped>\n",
              "    .dataframe tbody tr th:only-of-type {\n",
              "        vertical-align: middle;\n",
              "    }\n",
              "\n",
              "    .dataframe tbody tr th {\n",
              "        vertical-align: top;\n",
              "    }\n",
              "\n",
              "    .dataframe thead th {\n",
              "        text-align: right;\n",
              "    }\n",
              "</style>\n",
              "<table border=\"1\" class=\"dataframe\">\n",
              "  <thead>\n",
              "    <tr style=\"text-align: right;\">\n",
              "      <th></th>\n",
              "      <th>Binario</th>\n",
              "      <th>TF</th>\n",
              "      <th>TF-IDF</th>\n",
              "      <th>BM25</th>\n",
              "    </tr>\n",
              "  </thead>\n",
              "  <tbody>\n",
              "    <tr>\n",
              "      <th>1</th>\n",
              "      <td>0.25</td>\n",
              "      <td>1.0</td>\n",
              "      <td>1.0</td>\n",
              "      <td>1.0</td>\n",
              "    </tr>\n",
              "  </tbody>\n",
              "</table>\n",
              "</div>"
            ],
            "text/plain": [
              "   Binario   TF  TF-IDF  BM25\n",
              "1     0.25  1.0     1.0   1.0"
            ]
          },
          "metadata": {
            "tags": []
          },
          "execution_count": 26
        }
      ]
    },
    {
      "cell_type": "markdown",
      "metadata": {
        "id": "s2AwZEL3s5ru",
        "colab_type": "text"
      },
      "source": [
        "#2\n",
        "**A partir do gabarito fornecido em OBS1, calcule o MAP para cada algoritmo abaixo e aponte qual obteve o melhor resultado. Para os cálculos do MAP, considere que um documento é relevante para uma dada consulta se este documento estiver entre os documentos do gabarito para essa consulta, senão ele deve ser considerado irrelevante.** "
      ]
    },
    {
      "cell_type": "code",
      "metadata": {
        "id": "M2IM8EqztAmo",
        "colab_type": "code",
        "colab": {}
      },
      "source": [
        "def indices_doc(model):\n",
        "  return [doc for score,doc in model]\n",
        "\n",
        "def intersecao(a,b):\n",
        "  return [elem for elem in a if elem in b]\n",
        "\n",
        "def calcula_AP(query):\n",
        "  relevant_docs = []\n",
        "\n",
        "  for doc_info in feedback[query]:\n",
        "    \n",
        "    row = results.loc[results.url == doc_info['URL']]\n",
        "    \n",
        "    relevant_docs.append(row.index[0])\n",
        "  \n",
        "  binary, tf, tfidf, bm25 = top_models_create(query, 5)\n",
        "  \n",
        "  binary = indices_doc(binary)\n",
        "  \n",
        "  tf = indices_doc(tf)\n",
        "  \n",
        "  tfidf = indices_doc(tfidf)\n",
        "  \n",
        "  bm25 = indices_doc(bm25)\n",
        "  \n",
        "  ap_binary = len(intersecao(binary, relevant_docs)) / len(binary)\n",
        "  \n",
        "  ap_tf = len(intersecao(tf, relevant_docs)) / len(tf)\n",
        "  \n",
        "  ap_tfidf = len(intersecao(tfidf, relevant_docs)) / len(tfidf)\n",
        "  \n",
        "  ap_bm25 = len(intersecao(bm25, relevant_docs)) / len(bm25)\n",
        "  \n",
        "  return ap_binary, ap_tf, ap_tfidf, ap_bm25"
      ],
      "execution_count": 0,
      "outputs": []
    },
    {
      "cell_type": "markdown",
      "metadata": {
        "id": "6ucZF4LR6R70",
        "colab_type": "text"
      },
      "source": [
        "**Calculo do Mean Average Precision**"
      ]
    },
    {
      "cell_type": "code",
      "metadata": {
        "id": "gi_MTwENtfyF",
        "colab_type": "code",
        "colab": {}
      },
      "source": [
        "def calcula_MAP(queries):\n",
        "  sum_binary = 0\n",
        "  \n",
        "  sum_tf = 0\n",
        "  \n",
        "  sum_tfidf = 0\n",
        "  \n",
        "  sum_bm25 = 0\n",
        "  \n",
        "  for query in queries:\n",
        "    \n",
        "    ap_binary, ap_tf, ap_tfidf, ap_bm25 = calcula_AP(query)\n",
        "    \n",
        "    sum_binary += ap_binary\n",
        "    \n",
        "    sum_tf += ap_tf\n",
        "    \n",
        "    sum_tfidf += ap_tfidf\n",
        "    \n",
        "    sum_bm25 += ap_bm25\n",
        "  \n",
        "  \n",
        "  map_binary = round(sum_binary / len(queries),2)\n",
        "  \n",
        "  map_tf = round(sum_tf / len(queries),2)\n",
        "  \n",
        "  map_tfidf = round(sum_tfidf / len(queries),2)\n",
        "  \n",
        "  map_bm25 = round(sum_bm25 / len(queries),2)\n",
        "  \n",
        "  return map_binary, map_tf, map_tfidf, map_bm25"
      ],
      "execution_count": 0,
      "outputs": []
    },
    {
      "cell_type": "code",
      "metadata": {
        "id": "SuViVlR4t1tm",
        "colab_type": "code",
        "outputId": "686c6eee-0863-4e3c-dbe8-6b0ac4ecc6ec",
        "colab": {
          "base_uri": "https://localhost:8080/",
          "height": 77
        }
      },
      "source": [
        "map_binary, map_tf, map_tfidf, map_bm25 = calcula_MAP(feedback.keys())\n",
        "\n",
        "clasf_df = pd.DataFrame()\n",
        "\n",
        "clasf_df['Binario'] = [map_binary]\n",
        "\n",
        "clasf_df['TF'] = [map_tf]\n",
        "\n",
        "clasf_df['TF-IDF'] = [map_tfidf]\n",
        "\n",
        "clasf_df['BM25'] = [map_bm25]\n",
        "\n",
        "clasf_df.index+=1\n",
        "clasf_df"
      ],
      "execution_count": 29,
      "outputs": [
        {
          "output_type": "execute_result",
          "data": {
            "text/html": [
              "<div>\n",
              "<style scoped>\n",
              "    .dataframe tbody tr th:only-of-type {\n",
              "        vertical-align: middle;\n",
              "    }\n",
              "\n",
              "    .dataframe tbody tr th {\n",
              "        vertical-align: top;\n",
              "    }\n",
              "\n",
              "    .dataframe thead th {\n",
              "        text-align: right;\n",
              "    }\n",
              "</style>\n",
              "<table border=\"1\" class=\"dataframe\">\n",
              "  <thead>\n",
              "    <tr style=\"text-align: right;\">\n",
              "      <th></th>\n",
              "      <th>Binario</th>\n",
              "      <th>TF</th>\n",
              "      <th>TF-IDF</th>\n",
              "      <th>BM25</th>\n",
              "    </tr>\n",
              "  </thead>\n",
              "  <tbody>\n",
              "    <tr>\n",
              "      <th>1</th>\n",
              "      <td>0.1</td>\n",
              "      <td>0.02</td>\n",
              "      <td>0.18</td>\n",
              "      <td>0.18</td>\n",
              "    </tr>\n",
              "  </tbody>\n",
              "</table>\n",
              "</div>"
            ],
            "text/plain": [
              "   Binario    TF  TF-IDF  BM25\n",
              "1      0.1  0.02    0.18  0.18"
            ]
          },
          "metadata": {
            "tags": []
          },
          "execution_count": 29
        }
      ]
    },
    {
      "cell_type": "markdown",
      "metadata": {
        "id": "4orZ2nqw5p8s",
        "colab_type": "text"
      },
      "source": [
        "Conseguimos entender que por definicao o valor do (MAP) varia entre 0 e 1. Esses modelos que calculamos tem uma baixa precisao, na procura de documentos especificos."
      ]
    },
    {
      "cell_type": "markdown",
      "metadata": {
        "id": "t82YNfKz6DGd",
        "colab_type": "text"
      },
      "source": [
        "#3\n",
        "**Repita Q2 usando a avaliação multi-nível DCG. Utilize o campo \"level\" do gabarito para o cálculo do DCG e do idealDCG.**"
      ]
    },
    {
      "cell_type": "markdown",
      "metadata": {
        "id": "LZYhwIsB9h4e",
        "colab_type": "text"
      },
      "source": [
        "Calculo DCG"
      ]
    },
    {
      "cell_type": "code",
      "metadata": {
        "id": "mVVuwpMy6ONJ",
        "colab_type": "code",
        "colab": {}
      },
      "source": [
        "def calculaDCG(modelo, niveis):\n",
        "  \n",
        "  dcg = 0.0\n",
        "  \n",
        "  for i in range(1,len(modelo)+1):\n",
        "    \n",
        "    doc = modelo[i-1]\n",
        "    \n",
        "    nivel = getNivel(doc, niveis)\n",
        "    \n",
        "    dcg += (2^nivel) / np.log2(i + 1.0)\n",
        "    \n",
        "  return dcg"
      ],
      "execution_count": 0,
      "outputs": []
    },
    {
      "cell_type": "markdown",
      "metadata": {
        "id": "FxX8NJZz9oIL",
        "colab_type": "text"
      },
      "source": [
        "Modelos DCG"
      ]
    },
    {
      "cell_type": "code",
      "metadata": {
        "id": "aFBdKJEC9mJE",
        "colab_type": "code",
        "colab": {}
      },
      "source": [
        "def modelosDCG(consulta):\n",
        "  \n",
        "  documentos_relevantes = {}\n",
        "\n",
        "  for info_documento in feedback[consulta]:\n",
        "    coluna = results.loc[results.url == info_documento['URL']]\n",
        "    documentos_relevantes[coluna.index[0]] = info_documento['level']\n",
        "    \n",
        "  binario, tf, tfidf, bm25 = top_models_create(consulta, 5)\n",
        "  \n",
        "  binario, tf, tfidf, bm25 = todosOsDocumentos(binario, tf, tfidf, bm25)\n",
        "  \n",
        "  dcg_binario = round(calculaDCG(binario, setNivel(binario, documentos_relevantes)),2)\n",
        "  \n",
        "  dcg_tf = round(calculaDCG(tf, setNivel(tf, documentos_relevantes)),2)\n",
        "  \n",
        "  dcg_tfidf = round(calculaDCG(tfidf, setNivel(tfidf, documentos_relevantes)),2)\n",
        "  \n",
        "  dcg_bm25 = round(calculaDCG(bm25, setNivel(bm25, documentos_relevantes)),2)\n",
        "  \n",
        "  return dcg_binario, dcg_tf, dcg_tfidf, dcg_bm25"
      ],
      "execution_count": 0,
      "outputs": []
    },
    {
      "cell_type": "code",
      "metadata": {
        "id": "R4bWgSS99mVQ",
        "colab_type": "code",
        "colab": {}
      },
      "source": [
        "def modelosDCGIdeal(consulta):\n",
        "  \n",
        "  documentos_relevantes = {}\n",
        "\n",
        "  for info_documento in feedback[consulta]:\n",
        "    coluna = results.loc[results.url == info_documento['URL']]\n",
        "    documentos_relevantes[coluna.index[0]] = info_documento['level']\n",
        "    \n",
        "  binario, tf, tfidf, bm25 = top_models_create(consulta, 5)\n",
        "  \n",
        "  binario = indices_doc(binario)\n",
        "  \n",
        "  tf = indices_doc(tf)\n",
        "  \n",
        "  tfidf = indices_doc(tfidf)\n",
        "  \n",
        "  bm25 = indices_doc(bm25)\n",
        "  \n",
        "  niveis_binario, niveis_tf, niveis_tfidf, niveis_bm25 = todosOsNiveis(binario, tf, tfidf, bm25, documentos_relevantes)\n",
        "  \n",
        "  binario, tf, tfidf, bm25 = extraiDocumentos(niveis_binario, niveis_tf, niveis_tfidf, niveis_bm25)\n",
        "  \n",
        "  idcg_binario = round(calculaDCG(binario, niveis_binario), 2)\n",
        "  \n",
        "  idcg_tf = round(calculaDCG(tf, niveis_tf), 2)\n",
        "  \n",
        "  idcg_tfidf = round(calculaDCG(tfidf, niveis_tfidf), 2)\n",
        "  \n",
        "  idcg_bm25 = round(calculaDCG(bm25, niveis_bm25), 2)\n",
        "  \n",
        "  return idcg_binario, idcg_tf, idcg_tfidf, idcg_bm25"
      ],
      "execution_count": 0,
      "outputs": []
    },
    {
      "cell_type": "markdown",
      "metadata": {
        "id": "pt6nrgqc-chA",
        "colab_type": "text"
      },
      "source": [
        "Definicao de algumas funcoes auxiliares"
      ]
    },
    {
      "cell_type": "code",
      "metadata": {
        "id": "XGBzw6Di-gl0",
        "colab_type": "code",
        "colab": {}
      },
      "source": [
        "def getNivel(d, l):\n",
        "  \n",
        "  for level,doc in l:\n",
        "    if doc == d:\n",
        "      return level\n",
        "    \n",
        "def setNivel(m, d):\n",
        "  \n",
        "  modelo = [(0, documento) for documento in m if documento not in d]\n",
        "  \n",
        "  dic = [(v, k) for k, v in d.items()]\n",
        "  \n",
        "  res = modelo + dic\n",
        "  \n",
        "  res.sort(reverse=True)\n",
        "  \n",
        "  return res\n",
        "\n",
        "def todosOsDocumentos(binario, tf, tfidf, bm25):\n",
        "  return indices_doc(binario), indices_doc(tf), indices_doc(tfidf), indices_doc(bm25)\n",
        "    \n",
        "def todosOsNiveis(binario, tf, tfidf, bm25, rd):\n",
        "  return setNivel(binario, rd), setNivel(tf, rd), setNivel(tfidf, rd), setNivel(bm25, rd)\n",
        "\n",
        "def extraiDocumentos(binario, tf, tfidf, bm25):\n",
        "  return [documento for nivel, documento in binario], [documento for nivel, documento in tf], [documento for nivel, documento in tfidf], [documento for nivel, documento in bm25]"
      ],
      "execution_count": 0,
      "outputs": []
    },
    {
      "cell_type": "markdown",
      "metadata": {
        "id": "SZi6IHBz-pZL",
        "colab_type": "text"
      },
      "source": [
        "Agora, defina-mos os valores do DCG de acordo com os modelos"
      ]
    },
    {
      "cell_type": "code",
      "metadata": {
        "id": "YHh2JwNp-xaP",
        "colab_type": "code",
        "colab": {
          "base_uri": "https://localhost:8080/",
          "height": 347
        },
        "outputId": "638eae69-fb7f-4b88-e83e-0fa8a7c0a310"
      },
      "source": [
        "resultados_consultas = {}\n",
        "\n",
        "for consulta in feedback.keys():\n",
        "  \n",
        "  dcg_binario, dcg_tf, dcg_tfidf, dcg_bm25 = modelosDCG(consulta)\n",
        "  \n",
        "  idcg_binario, idcg_tf, idcg_tfidf, idcg_bm25 = modelosDCGIdeal(consulta)\n",
        "  \n",
        "  \n",
        "  binario = (dcg_binario, idcg_binario)\n",
        "  \n",
        "  tf = (dcg_tf, idcg_tf)\n",
        "  \n",
        "  tfidf = (dcg_tfidf, idcg_tfidf)\n",
        "  \n",
        "  bm25 = (dcg_bm25, idcg_bm25)\n",
        "  \n",
        "  resultados = [binario, tf, tfidf, bm25]\n",
        "  \n",
        "  resultados_consultas[consulta] = resultados\n",
        "  \n",
        "  tabela_3 = pd.DataFrame()\n",
        "\n",
        "tabela_3['Consulta'] = feedback.keys()\n",
        "\n",
        "tabela_3['Binário'] = [resultados_consultas[consulta][0] for consulta in feedback.keys()]\n",
        "\n",
        "tabela_3['TF'] = [resultados_consultas[consulta][1] for consulta in feedback.keys()]\n",
        "\n",
        "tabela_3['TF-IDF'] = [resultados_consultas[consulta][2] for consulta in feedback.keys()]\n",
        "\n",
        "tabela_3['BM25'] = [resultados_consultas[consulta][3] for consulta in feedback.keys()]\n",
        "\n",
        "tabela_3.index += 1\n",
        "\n",
        "tabela_3"
      ],
      "execution_count": 34,
      "outputs": [
        {
          "output_type": "execute_result",
          "data": {
            "text/html": [
              "<div>\n",
              "<style scoped>\n",
              "    .dataframe tbody tr th:only-of-type {\n",
              "        vertical-align: middle;\n",
              "    }\n",
              "\n",
              "    .dataframe tbody tr th {\n",
              "        vertical-align: top;\n",
              "    }\n",
              "\n",
              "    .dataframe thead th {\n",
              "        text-align: right;\n",
              "    }\n",
              "</style>\n",
              "<table border=\"1\" class=\"dataframe\">\n",
              "  <thead>\n",
              "    <tr style=\"text-align: right;\">\n",
              "      <th></th>\n",
              "      <th>Consulta</th>\n",
              "      <th>Binário</th>\n",
              "      <th>TF</th>\n",
              "      <th>TF-IDF</th>\n",
              "      <th>BM25</th>\n",
              "    </tr>\n",
              "  </thead>\n",
              "  <tbody>\n",
              "    <tr>\n",
              "      <th>1</th>\n",
              "      <td>território palestino</td>\n",
              "      <td>(5.9, 15.65)</td>\n",
              "      <td>(5.9, 15.65)</td>\n",
              "      <td>(5.51, 14.98)</td>\n",
              "      <td>(5.51, 14.98)</td>\n",
              "    </tr>\n",
              "    <tr>\n",
              "      <th>2</th>\n",
              "      <td>recessão mundial</td>\n",
              "      <td>(11.58, 14.98)</td>\n",
              "      <td>(9.77, 14.98)</td>\n",
              "      <td>(9.77, 14.98)</td>\n",
              "      <td>(9.77, 14.98)</td>\n",
              "    </tr>\n",
              "    <tr>\n",
              "      <th>3</th>\n",
              "      <td>ditadura militar</td>\n",
              "      <td>(5.9, 17.17)</td>\n",
              "      <td>(5.9, 17.17)</td>\n",
              "      <td>(5.9, 17.17)</td>\n",
              "      <td>(5.9, 17.17)</td>\n",
              "    </tr>\n",
              "    <tr>\n",
              "      <th>4</th>\n",
              "      <td>muro das lamentações</td>\n",
              "      <td>(18.08, 19.29)</td>\n",
              "      <td>(5.9, 21.3)</td>\n",
              "      <td>(19.29, 19.29)</td>\n",
              "      <td>(19.29, 19.29)</td>\n",
              "    </tr>\n",
              "    <tr>\n",
              "      <th>5</th>\n",
              "      <td>brasil e argentina</td>\n",
              "      <td>(8.9, 17.5)</td>\n",
              "      <td>(5.9, 18.17)</td>\n",
              "      <td>(7.79, 17.5)</td>\n",
              "      <td>(7.79, 17.5)</td>\n",
              "    </tr>\n",
              "    <tr>\n",
              "      <th>6</th>\n",
              "      <td>golpe militar</td>\n",
              "      <td>(5.9, 20.67)</td>\n",
              "      <td>(5.9, 20.67)</td>\n",
              "      <td>(8.4, 20.04)</td>\n",
              "      <td>(8.4, 20.04)</td>\n",
              "    </tr>\n",
              "    <tr>\n",
              "      <th>7</th>\n",
              "      <td>governo bolsonaro</td>\n",
              "      <td>(5.9, 16.54)</td>\n",
              "      <td>(5.9, 16.54)</td>\n",
              "      <td>(5.9, 16.54)</td>\n",
              "      <td>(5.9, 16.54)</td>\n",
              "    </tr>\n",
              "    <tr>\n",
              "      <th>8</th>\n",
              "      <td>ministro da economia</td>\n",
              "      <td>(5.9, 17.17)</td>\n",
              "      <td>(5.9, 17.17)</td>\n",
              "      <td>(5.9, 17.17)</td>\n",
              "      <td>(5.9, 17.17)</td>\n",
              "    </tr>\n",
              "    <tr>\n",
              "      <th>9</th>\n",
              "      <td>prisão de Temer</td>\n",
              "      <td>(5.9, 13.43)</td>\n",
              "      <td>(5.9, 13.43)</td>\n",
              "      <td>(10.29, 12.05)</td>\n",
              "      <td>(10.29, 12.05)</td>\n",
              "    </tr>\n",
              "    <tr>\n",
              "      <th>10</th>\n",
              "      <td>Congresso Nacional</td>\n",
              "      <td>(5.9, 9.65)</td>\n",
              "      <td>(5.9, 9.65)</td>\n",
              "      <td>(5.9, 9.65)</td>\n",
              "      <td>(5.9, 9.65)</td>\n",
              "    </tr>\n",
              "  </tbody>\n",
              "</table>\n",
              "</div>"
            ],
            "text/plain": [
              "                Consulta         Binário  ...          TF-IDF            BM25\n",
              "1   território palestino    (5.9, 15.65)  ...   (5.51, 14.98)   (5.51, 14.98)\n",
              "2       recessão mundial  (11.58, 14.98)  ...   (9.77, 14.98)   (9.77, 14.98)\n",
              "3       ditadura militar    (5.9, 17.17)  ...    (5.9, 17.17)    (5.9, 17.17)\n",
              "4   muro das lamentações  (18.08, 19.29)  ...  (19.29, 19.29)  (19.29, 19.29)\n",
              "5     brasil e argentina     (8.9, 17.5)  ...    (7.79, 17.5)    (7.79, 17.5)\n",
              "6          golpe militar    (5.9, 20.67)  ...    (8.4, 20.04)    (8.4, 20.04)\n",
              "7      governo bolsonaro    (5.9, 16.54)  ...    (5.9, 16.54)    (5.9, 16.54)\n",
              "8   ministro da economia    (5.9, 17.17)  ...    (5.9, 17.17)    (5.9, 17.17)\n",
              "9        prisão de Temer    (5.9, 13.43)  ...  (10.29, 12.05)  (10.29, 12.05)\n",
              "10    Congresso Nacional     (5.9, 9.65)  ...     (5.9, 9.65)     (5.9, 9.65)\n",
              "\n",
              "[10 rows x 5 columns]"
            ]
          },
          "metadata": {
            "tags": []
          },
          "execution_count": 34
        }
      ]
    },
    {
      "cell_type": "markdown",
      "metadata": {
        "id": "Ifdj_8qlBQNV",
        "colab_type": "text"
      },
      "source": [
        "Na tebela acima, podemos ver a disposicao dos resultados que foram encontrados para o DCG comum e o ideal, nas tuplas para os modelos usados (Binario, TF, TF-IDF e BM-25)"
      ]
    }
  ]
}