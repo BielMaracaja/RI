{
  "nbformat": 4,
  "nbformat_minor": 0,
  "metadata": {
    "colab": {
      "name": "RiLab04.ipynb",
      "version": "0.3.2",
      "provenance": [],
      "collapsed_sections": []
    },
    "kernelspec": {
      "name": "python3",
      "display_name": "Python 3"
    }
  },
  "cells": [
    {
      "cell_type": "markdown",
      "metadata": {
        "id": "wghS4CQBGNL6",
        "colab_type": "text"
      },
      "source": [
        "#Execute o algoritmo ilustrado na Fig. 5.8 do livro texto (pag. 157) para gerar um índice similar o mostrado na Fig. 5.4 (pag. 134). Guarde o índice em disco em formato csv."
      ]
    },
    {
      "cell_type": "code",
      "metadata": {
        "id": "RBcuH10E5ub5",
        "colab_type": "code",
        "outputId": "b3a537b2-f41e-4cee-d008-6978ef8e006d",
        "colab": {
          "base_uri": "https://localhost:8080/",
          "height": 153
        }
      },
      "source": [
        "import pandas as pd\n",
        "import matplotlib.pyplot as plt\n",
        "import nltk\n",
        "import re\n",
        "import seaborn as sns\n",
        "import heapq\n",
        "import time\n",
        "from nltk.tokenize import RegexpTokenizer\n",
        "from collections import Counter\n",
        "from nltk.corpus import stopwords\n",
        "from nltk.stem import RSLPStemmer\n",
        "!pip install memory_profiler\n",
        "%load_ext memory_profiler\n",
        "nltk.download('stopwords')\n",
        "nltk.download('rslp')\n",
        "\n",
        "results = pd.read_csv('https://raw.githubusercontent.com/BielMaracaja/RI/master/ri_lab_02/results.csv')\n",
        "documents = results['text']\n",
        "stopwords = nltk.corpus.stopwords.words('portuguese') \n",
        "\n",
        "tokenizador = RegexpTokenizer(r'\\b[A-zÀ-ú\\d\\-\\']+')\n",
        "indices = {}\n",
        "n = 0\n",
        "\n",
        "for documento in documents:\n",
        "    n += 1\n",
        "    tokens = tokenizador.tokenize(documento.lower())\n",
        "    for token in set(tokens):\n",
        "        if (token not in stopwords and len(token) >= 2):\n",
        "            contador = (n, tokens.count(token))\n",
        "            if (token not in indices.keys()):\n",
        "                  indices[token] = []\n",
        "                  indices[token].append(contador)\n",
        "            else:\n",
        "                  indices[token].append(contador)\n",
        "\n",
        "                \n",
        "#Indice em formato CSV sendo criado\n",
        "inverted_index_df = pd.DataFrame.from_dict(indices, orient=\"index\")\n",
        "inverted_index_df.to_csv('data.csv')\n",
        "indices = indices"
      ],
      "execution_count": 33,
      "outputs": [
        {
          "output_type": "stream",
          "text": [
            "Requirement already satisfied: memory_profiler in /usr/local/lib/python3.6/dist-packages (0.55.0)\n",
            "Requirement already satisfied: psutil in /usr/local/lib/python3.6/dist-packages (from memory_profiler) (5.4.8)\n",
            "The memory_profiler extension is already loaded. To reload it, use:\n",
            "  %reload_ext memory_profiler\n",
            "[nltk_data] Downloading package stopwords to /root/nltk_data...\n",
            "[nltk_data]   Package stopwords is already up-to-date!\n",
            "[nltk_data] Downloading package rslp to /root/nltk_data...\n",
            "[nltk_data]   Package rslp is already up-to-date!\n"
          ],
          "name": "stdout"
        }
      ]
    },
    {
      "cell_type": "markdown",
      "metadata": {
        "id": "S_7j7F1cIWVm",
        "colab_type": "text"
      },
      "source": [
        "#Implemente as abordagens de processamento de consulta documento-por-vez e termo-por-vez (Fig. 5.16 e 5.18).\n",
        "\n",
        "1- Defina 5 consultas de um termo somente.\n",
        "\n",
        "2- Execute as 5 consultas em cada algoritmo retornando os top-10 documentos (parâmetro k do algoritmo).\n",
        "\n",
        "3- Dê evidências de que sua implementação está correta.\n",
        "\n",
        "4- Compare os tempos médios de execução e uso de memória de cada algoritmo."
      ]
    },
    {
      "cell_type": "code",
      "metadata": {
        "id": "cCHRBR_dFUTL",
        "colab_type": "code",
        "colab": {
          "base_uri": "https://localhost:8080/",
          "height": 187
        },
        "outputId": "8c24db5c-4160-4e3e-f07e-cb00b00c3c91"
      },
      "source": [
        "#Busca documento_no_time sendo implementada\n",
        "def documento_no_time(consulta, indices, k):\n",
        "    \n",
        "    listas_invertidas = []\n",
        "    r = []\n",
        "    \n",
        "    for palavra in consulta.split(\" \"):\n",
        "        if palavra in indices.keys():\n",
        "            listas_invertidas.append(indices[palavra])\n",
        "    \n",
        "    for documento in range(1, len(documents)+1):\n",
        "        sd = 0\n",
        "        for lista_invertida in listas_invertidas:\n",
        "            for i in lista_invertida:\n",
        "                if (i[0] == documento): \n",
        "                    sd += i[1]\n",
        "                    break\n",
        "        \n",
        "        if (sd != 0):\n",
        "          heapq.heappush(r, (sd, documento))\n",
        "    \n",
        "    return heapq.nlargest(k, r)\n",
        " \n",
        "documento_no_time(\"educação\", indices, 10)"
      ],
      "execution_count": 23,
      "outputs": [
        {
          "output_type": "execute_result",
          "data": {
            "text/plain": [
              "[(22, 221),\n",
              " (11, 222),\n",
              " (7, 130),\n",
              " (6, 239),\n",
              " (5, 160),\n",
              " (5, 37),\n",
              " (4, 215),\n",
              " (4, 110),\n",
              " (3, 233),\n",
              " (3, 205)]"
            ]
          },
          "metadata": {
            "tags": []
          },
          "execution_count": 23
        }
      ]
    },
    {
      "cell_type": "code",
      "metadata": {
        "id": "HW9fZQhEGEUe",
        "colab_type": "code",
        "colab": {
          "base_uri": "https://localhost:8080/",
          "height": 187
        },
        "outputId": "b9311c0a-c9f9-41e7-aa25-9bf5af3fafa7"
      },
      "source": [
        "#Busca termo_no_time sendo implementada\n",
        "def termo_no_time(consulta, indices, k):\n",
        "    \n",
        "    a = {}\n",
        "    listas_invertidas = []\n",
        "    r = []\n",
        "    \n",
        "    for palavra in consulta.split(\" \"):\n",
        "        if palavra in indices.keys():\n",
        "            listas_invertidas.append(indices[palavra])\n",
        "    \n",
        "    for lista_invertida in listas_invertidas:\n",
        "        for p in lista_invertida:\n",
        "            d = p[0]\n",
        "            freq = p[1]\n",
        "            \n",
        "            if (d in a.keys()):\n",
        "                a[d] += freq\n",
        "            else:\n",
        "                a[d] = freq\n",
        "    \n",
        "    for (d, ad) in a.items():\n",
        "        sd = ad\n",
        "        heapq.heappush(r, (sd, d))\n",
        "    \n",
        "    return heapq.nlargest(k, r)\n",
        "   \n",
        "termo_no_time(\"educação\", indices, 10)"
      ],
      "execution_count": 24,
      "outputs": [
        {
          "output_type": "execute_result",
          "data": {
            "text/plain": [
              "[(22, 221),\n",
              " (11, 222),\n",
              " (7, 130),\n",
              " (6, 239),\n",
              " (5, 160),\n",
              " (5, 37),\n",
              " (4, 215),\n",
              " (4, 110),\n",
              " (3, 233),\n",
              " (3, 205)]"
            ]
          },
          "metadata": {
            "tags": []
          },
          "execution_count": 24
        }
      ]
    },
    {
      "cell_type": "code",
      "metadata": {
        "id": "_F-sMArOGp2S",
        "colab_type": "code",
        "colab": {}
      },
      "source": [
        "#Definição das buscas\n",
        "buscas = [\"bolsonaro\", \"política\", \"negócios\", \"empresa\", \"educação\"]"
      ],
      "execution_count": 0,
      "outputs": []
    },
    {
      "cell_type": "code",
      "metadata": {
        "id": "Bqv2a_HRHAZS",
        "colab_type": "code",
        "colab": {}
      },
      "source": [
        "resultados_documento = []\n",
        "\n",
        "resultados_termo = []\n",
        "\n",
        "resultados_documento_tempo = []\n",
        "\n",
        "resultados_termo_tempo = []\n",
        "\n",
        "k = 10\n",
        "\n",
        "for busca in buscas:\n",
        "  inicio_documento = time.time()\n",
        "  resultados_documento.append(documento_no_time(busca, indices, k))\n",
        "\n",
        "  fim_documento = time.time()\n",
        "  resultados_documento_tempo.append(fim_documento - inicio_documento)\n",
        "  \n",
        "  inicio_termo = time.time()\n",
        "  resultados_termo.append(termo_no_time(busca, indices, k))\n",
        "  \n",
        "  fim_termo = time.time()\n",
        "  resultados_termo_tempo.append(fim_termo - inicio_termo)"
      ],
      "execution_count": 0,
      "outputs": []
    },
    {
      "cell_type": "code",
      "metadata": {
        "id": "EHVdmgZHHpzg",
        "colab_type": "code",
        "outputId": "b0ccb1a3-99fe-480c-d1f9-ee17c733d25a",
        "colab": {
          "base_uri": "https://localhost:8080/",
          "height": 204
        }
      },
      "source": [
        "#Tabela com dados sendo impressa\n",
        "tabela_consultas = pd.DataFrame()\n",
        "\n",
        "tabela_consultas['consulta'] = buscas\n",
        "\n",
        "tabela_consultas['documento_no_time'] = resultados_documento\n",
        "\n",
        "tabela_consultas['termo_no_time'] = resultados_termo\n",
        "\n",
        "tabela_consultas['verdadeiro_ou_falso'] = tabela_consultas.documento_no_time == tabela_consultas.termo_no_time\n",
        "\n",
        "tabela_consultas.index += 1\n",
        "\n",
        "tabela_consultas"
      ],
      "execution_count": 27,
      "outputs": [
        {
          "output_type": "execute_result",
          "data": {
            "text/html": [
              "<div>\n",
              "<style scoped>\n",
              "    .dataframe tbody tr th:only-of-type {\n",
              "        vertical-align: middle;\n",
              "    }\n",
              "\n",
              "    .dataframe tbody tr th {\n",
              "        vertical-align: top;\n",
              "    }\n",
              "\n",
              "    .dataframe thead th {\n",
              "        text-align: right;\n",
              "    }\n",
              "</style>\n",
              "<table border=\"1\" class=\"dataframe\">\n",
              "  <thead>\n",
              "    <tr style=\"text-align: right;\">\n",
              "      <th></th>\n",
              "      <th>consulta</th>\n",
              "      <th>documento_no_time</th>\n",
              "      <th>termo_no_time</th>\n",
              "      <th>verdadeiro_ou_falso</th>\n",
              "    </tr>\n",
              "  </thead>\n",
              "  <tbody>\n",
              "    <tr>\n",
              "      <th>1</th>\n",
              "      <td>bolsonaro</td>\n",
              "      <td>[(46, 151), (37, 166), (35, 207), (26, 19), (1...</td>\n",
              "      <td>[(46, 151), (37, 166), (35, 207), (26, 19), (1...</td>\n",
              "      <td>True</td>\n",
              "    </tr>\n",
              "    <tr>\n",
              "      <th>2</th>\n",
              "      <td>política</td>\n",
              "      <td>[(9, 69), (7, 235), (7, 166), (6, 204), (5, 17...</td>\n",
              "      <td>[(9, 69), (7, 235), (7, 166), (6, 204), (5, 17...</td>\n",
              "      <td>True</td>\n",
              "    </tr>\n",
              "    <tr>\n",
              "      <th>3</th>\n",
              "      <td>negócios</td>\n",
              "      <td>[(3, 26), (2, 130), (2, 126), (2, 8), (1, 197)...</td>\n",
              "      <td>[(3, 26), (2, 130), (2, 126), (2, 8), (1, 197)...</td>\n",
              "      <td>True</td>\n",
              "    </tr>\n",
              "    <tr>\n",
              "      <th>4</th>\n",
              "      <td>empresa</td>\n",
              "      <td>[(10, 142), (10, 40), (9, 143), (8, 22), (7, 1...</td>\n",
              "      <td>[(10, 142), (10, 40), (9, 143), (8, 22), (7, 1...</td>\n",
              "      <td>True</td>\n",
              "    </tr>\n",
              "    <tr>\n",
              "      <th>5</th>\n",
              "      <td>educação</td>\n",
              "      <td>[(22, 221), (11, 222), (7, 130), (6, 239), (5,...</td>\n",
              "      <td>[(22, 221), (11, 222), (7, 130), (6, 239), (5,...</td>\n",
              "      <td>True</td>\n",
              "    </tr>\n",
              "  </tbody>\n",
              "</table>\n",
              "</div>"
            ],
            "text/plain": [
              "    consulta                                  documento_no_time  \\\n",
              "1  bolsonaro  [(46, 151), (37, 166), (35, 207), (26, 19), (1...   \n",
              "2   política  [(9, 69), (7, 235), (7, 166), (6, 204), (5, 17...   \n",
              "3   negócios  [(3, 26), (2, 130), (2, 126), (2, 8), (1, 197)...   \n",
              "4    empresa  [(10, 142), (10, 40), (9, 143), (8, 22), (7, 1...   \n",
              "5   educação  [(22, 221), (11, 222), (7, 130), (6, 239), (5,...   \n",
              "\n",
              "                                       termo_no_time  verdadeiro_ou_falso  \n",
              "1  [(46, 151), (37, 166), (35, 207), (26, 19), (1...                 True  \n",
              "2  [(9, 69), (7, 235), (7, 166), (6, 204), (5, 17...                 True  \n",
              "3  [(3, 26), (2, 130), (2, 126), (2, 8), (1, 197)...                 True  \n",
              "4  [(10, 142), (10, 40), (9, 143), (8, 22), (7, 1...                 True  \n",
              "5  [(22, 221), (11, 222), (7, 130), (6, 239), (5,...                 True  "
            ]
          },
          "metadata": {
            "tags": []
          },
          "execution_count": 27
        }
      ]
    },
    {
      "cell_type": "code",
      "metadata": {
        "id": "WwkK41qiIoz2",
        "colab_type": "code",
        "outputId": "b067486a-0b8f-45ef-cee9-4157c9d59644",
        "colab": {
          "base_uri": "https://localhost:8080/",
          "height": 204
        }
      },
      "source": [
        "#Tempo médio de execução sendo comparados\n",
        "time_table = pd.DataFrame()\n",
        "\n",
        "time_table['um_documento_por_vez_tempo_medio'] = resultados_documento_tempo\n",
        "\n",
        "time_table['um_termo_por_vez_tempo_medio'] = resultados_termo_tempo\n",
        "\n",
        "time_table.index += 1\n",
        "\n",
        "time_table"
      ],
      "execution_count": 28,
      "outputs": [
        {
          "output_type": "execute_result",
          "data": {
            "text/html": [
              "<div>\n",
              "<style scoped>\n",
              "    .dataframe tbody tr th:only-of-type {\n",
              "        vertical-align: middle;\n",
              "    }\n",
              "\n",
              "    .dataframe tbody tr th {\n",
              "        vertical-align: top;\n",
              "    }\n",
              "\n",
              "    .dataframe thead th {\n",
              "        text-align: right;\n",
              "    }\n",
              "</style>\n",
              "<table border=\"1\" class=\"dataframe\">\n",
              "  <thead>\n",
              "    <tr style=\"text-align: right;\">\n",
              "      <th></th>\n",
              "      <th>um_documento_por_vez_tempo_medio</th>\n",
              "      <th>um_termo_por_vez_tempo_medio</th>\n",
              "    </tr>\n",
              "  </thead>\n",
              "  <tbody>\n",
              "    <tr>\n",
              "      <th>1</th>\n",
              "      <td>0.001116</td>\n",
              "      <td>0.000082</td>\n",
              "    </tr>\n",
              "    <tr>\n",
              "      <th>2</th>\n",
              "      <td>0.001301</td>\n",
              "      <td>0.000105</td>\n",
              "    </tr>\n",
              "    <tr>\n",
              "      <th>3</th>\n",
              "      <td>0.000316</td>\n",
              "      <td>0.000024</td>\n",
              "    </tr>\n",
              "    <tr>\n",
              "      <th>4</th>\n",
              "      <td>0.003657</td>\n",
              "      <td>0.000190</td>\n",
              "    </tr>\n",
              "    <tr>\n",
              "      <th>5</th>\n",
              "      <td>0.000717</td>\n",
              "      <td>0.000057</td>\n",
              "    </tr>\n",
              "  </tbody>\n",
              "</table>\n",
              "</div>"
            ],
            "text/plain": [
              "   um_documento_por_vez_tempo_medio  um_termo_por_vez_tempo_medio\n",
              "1                          0.001116                      0.000082\n",
              "2                          0.001301                      0.000105\n",
              "3                          0.000316                      0.000024\n",
              "4                          0.003657                      0.000190\n",
              "5                          0.000717                      0.000057"
            ]
          },
          "metadata": {
            "tags": []
          },
          "execution_count": 28
        }
      ]
    },
    {
      "cell_type": "code",
      "metadata": {
        "id": "IOHFWNIOJ-Pp",
        "colab_type": "code",
        "outputId": "07dbb8ea-d5af-4aeb-aa7b-7ec9e85ee32a",
        "colab": {
          "base_uri": "https://localhost:8080/",
          "height": 102
        }
      },
      "source": [
        "#Uso de memória sendo comparado\n",
        "print('Cada documento, usando a memória por vez:')\n",
        "%memit documento_no_time(buscas[0], indices, k)\n",
        "\n",
        "print(' ')\n",
        "\n",
        "print('Cada Termo, usando a memória por vez:')\n",
        "%memit termo_no_time(buscas[0], indices, k)"
      ],
      "execution_count": 29,
      "outputs": [
        {
          "output_type": "stream",
          "text": [
            "Cada documento, usando a memória por vez:\n",
            "peak memory: 308.68 MiB, increment: 0.00 MiB\n",
            " \n",
            "Cada Termo, usando a memória por vez:\n",
            "peak memory: 308.68 MiB, increment: 0.00 MiB\n"
          ],
          "name": "stdout"
        }
      ]
    },
    {
      "cell_type": "markdown",
      "metadata": {
        "id": "kPYVJ72Ihd3m",
        "colab_type": "text"
      },
      "source": [
        "#Implemente uma das versões de consulta conjuntiva (AND) (Fig. 5.20 ou 5.21).\n",
        "\n",
        "1- Defina 5 consultas conjuntivas (AND).\n",
        "\n",
        "2- Execute as 5 consultas em cada algoritmo retornando os top-10 documentos (parâmetro k do algoritmo).\n",
        "\n",
        "3- Dê evidências de que sua implementação está correta."
      ]
    },
    {
      "cell_type": "code",
      "metadata": {
        "id": "dsOwxqGkLW4Q",
        "colab_type": "code",
        "colab": {}
      },
      "source": [
        "#Implementação da consulta conjuntiva (AND)\n",
        "def and_consult(consulta, indices, k):\n",
        "  \n",
        "  indices_consulta = []\n",
        "  ranking = [] \n",
        "  \n",
        "  for palavra in consulta.split(\" \"):\n",
        "    \n",
        "    if palavra in indices.keys():\n",
        "        indices_consulta.append(indices[palavra])\n",
        "  \n",
        "  todos_os_indices = [item for sublista in indices_consulta for item in sublista]\n",
        "  todos_os_indices.sort() \n",
        "  \n",
        "  for i in range(len(todos_os_indices)):\n",
        "    score_documento = 0\n",
        "    d = todos_os_indices.pop()\n",
        "    cont = 1\n",
        "    \n",
        "    for indice in todos_os_indices:\n",
        "      \n",
        "      if indice[0] == d[0]:\n",
        "        score_documento += indice[1]\n",
        "        cont += 1\n",
        "    \n",
        "    if score_documento != 0 and cont == len(indices_consulta):\n",
        "      score_documento += d[1]\n",
        "      heapq.heappush(ranking, (score_documento, d[0]))\n",
        "        \n",
        "  return heapq.nlargest(k, ranking)\n",
        "\n",
        "and_consults = [\"bolsonaro\", \"política\", \"negócios\", \"empresa\", \"educação\"]"
      ],
      "execution_count": 0,
      "outputs": []
    },
    {
      "cell_type": "code",
      "metadata": {
        "id": "GQJqHI6aea3a",
        "colab_type": "code",
        "colab": {
          "base_uri": "https://localhost:8080/",
          "height": 204
        },
        "outputId": "bb0505e2-dbd2-41be-b1f4-cf84883ed401"
      },
      "source": [
        "#Imprimindo a tabela com os devidos dados dos documentos\n",
        "k = 10\n",
        "resultados_and = []\n",
        "\n",
        "for consult in and_consults:\n",
        "  score_and = and_consult(consult, indices, k)\n",
        "  resultados_and.append(score_and)\n",
        "\n",
        "\n",
        "and_table = pd.DataFrame()\n",
        "\n",
        "and_table['busca'] = buscas\n",
        "\n",
        "and_table['AND'] = resultados_and\n",
        "\n",
        "and_table.index += 1\n",
        "\n",
        "and_table"
      ],
      "execution_count": 31,
      "outputs": [
        {
          "output_type": "execute_result",
          "data": {
            "text/html": [
              "<div>\n",
              "<style scoped>\n",
              "    .dataframe tbody tr th:only-of-type {\n",
              "        vertical-align: middle;\n",
              "    }\n",
              "\n",
              "    .dataframe tbody tr th {\n",
              "        vertical-align: top;\n",
              "    }\n",
              "\n",
              "    .dataframe thead th {\n",
              "        text-align: right;\n",
              "    }\n",
              "</style>\n",
              "<table border=\"1\" class=\"dataframe\">\n",
              "  <thead>\n",
              "    <tr style=\"text-align: right;\">\n",
              "      <th></th>\n",
              "      <th>busca</th>\n",
              "      <th>AND</th>\n",
              "    </tr>\n",
              "  </thead>\n",
              "  <tbody>\n",
              "    <tr>\n",
              "      <th>1</th>\n",
              "      <td>bolsonaro</td>\n",
              "      <td>[]</td>\n",
              "    </tr>\n",
              "    <tr>\n",
              "      <th>2</th>\n",
              "      <td>política</td>\n",
              "      <td>[]</td>\n",
              "    </tr>\n",
              "    <tr>\n",
              "      <th>3</th>\n",
              "      <td>negócios</td>\n",
              "      <td>[]</td>\n",
              "    </tr>\n",
              "    <tr>\n",
              "      <th>4</th>\n",
              "      <td>empresa</td>\n",
              "      <td>[]</td>\n",
              "    </tr>\n",
              "    <tr>\n",
              "      <th>5</th>\n",
              "      <td>educação</td>\n",
              "      <td>[]</td>\n",
              "    </tr>\n",
              "  </tbody>\n",
              "</table>\n",
              "</div>"
            ],
            "text/plain": [
              "       busca AND\n",
              "1  bolsonaro  []\n",
              "2   política  []\n",
              "3   negócios  []\n",
              "4    empresa  []\n",
              "5   educação  []"
            ]
          },
          "metadata": {
            "tags": []
          },
          "execution_count": 31
        }
      ]
    },
    {
      "cell_type": "markdown",
      "metadata": {
        "id": "N2wGRUEGiYnV",
        "colab_type": "text"
      },
      "source": [
        "**3.3**\n",
        "Podemos perceber a lista invertida de cada termo e percebemos que todos os termos aparecem apenas no primeiro documento. De tal forma que o algoritmo faz a soma dos scores de cada termo, atribuindo o resultado do documento ao score."
      ]
    },
    {
      "cell_type": "code",
      "metadata": {
        "id": "xObg2n5ugQAI",
        "colab_type": "code",
        "colab": {
          "base_uri": "https://localhost:8080/",
          "height": 204
        },
        "outputId": "f91d9259-e88c-4d95-ebe9-cd71906b0c2b"
      },
      "source": [
        "consulta = \"governo busca dedicar educação\"\n",
        "\n",
        "termos_consulta = consulta.split()\n",
        "\n",
        "indices_termos = [indices[termo] for termo in termos_consulta]\n",
        "  \n",
        "score_and = consulta_and(consulta, indices, 10)\n",
        "\n",
        "\n",
        "termos_consulta.append('')\n",
        "indices_termos.append('')\n",
        "a = ['', '', '', '', consulta]\n",
        "b = ['', '', '', '', score_and]\n",
        "\n",
        "tabela_q = pd.DataFrame()\n",
        "\n",
        "tabela_q['termos'] = termos_consulta\n",
        "\n",
        "tabela_q['lista_invertida'] = indices_termos\n",
        "\n",
        "tabela_q['consulta'] = a\n",
        "\n",
        "tabela_q['resultado'] = b\n",
        "\n",
        "tabela_q.index += 1\n",
        "\n",
        "tabela_q"
      ],
      "execution_count": 32,
      "outputs": [
        {
          "output_type": "execute_result",
          "data": {
            "text/html": [
              "<div>\n",
              "<style scoped>\n",
              "    .dataframe tbody tr th:only-of-type {\n",
              "        vertical-align: middle;\n",
              "    }\n",
              "\n",
              "    .dataframe tbody tr th {\n",
              "        vertical-align: top;\n",
              "    }\n",
              "\n",
              "    .dataframe thead th {\n",
              "        text-align: right;\n",
              "    }\n",
              "</style>\n",
              "<table border=\"1\" class=\"dataframe\">\n",
              "  <thead>\n",
              "    <tr style=\"text-align: right;\">\n",
              "      <th></th>\n",
              "      <th>termos</th>\n",
              "      <th>lista_invertida</th>\n",
              "      <th>consulta</th>\n",
              "      <th>resultado</th>\n",
              "    </tr>\n",
              "  </thead>\n",
              "  <tbody>\n",
              "    <tr>\n",
              "      <th>1</th>\n",
              "      <td>governo</td>\n",
              "      <td>[(3, 2), (8, 5), (17, 1), (18, 2), (19, 8), (2...</td>\n",
              "      <td></td>\n",
              "      <td></td>\n",
              "    </tr>\n",
              "    <tr>\n",
              "      <th>2</th>\n",
              "      <td>busca</td>\n",
              "      <td>[(6, 3), (29, 1), (36, 1), (49, 1), (57, 2), (...</td>\n",
              "      <td></td>\n",
              "      <td></td>\n",
              "    </tr>\n",
              "    <tr>\n",
              "      <th>3</th>\n",
              "      <td>dedicar</td>\n",
              "      <td>[(9, 1), (36, 1), (123, 1), (177, 1), (187, 1)]</td>\n",
              "      <td></td>\n",
              "      <td></td>\n",
              "    </tr>\n",
              "    <tr>\n",
              "      <th>4</th>\n",
              "      <td>educação</td>\n",
              "      <td>[(3, 1), (18, 1), (32, 1), (37, 5), (87, 1), (...</td>\n",
              "      <td></td>\n",
              "      <td></td>\n",
              "    </tr>\n",
              "    <tr>\n",
              "      <th>5</th>\n",
              "      <td></td>\n",
              "      <td></td>\n",
              "      <td>governo busca dedicar educação</td>\n",
              "      <td>[]</td>\n",
              "    </tr>\n",
              "  </tbody>\n",
              "</table>\n",
              "</div>"
            ],
            "text/plain": [
              "     termos                                    lista_invertida  \\\n",
              "1   governo  [(3, 2), (8, 5), (17, 1), (18, 2), (19, 8), (2...   \n",
              "2     busca  [(6, 3), (29, 1), (36, 1), (49, 1), (57, 2), (...   \n",
              "3   dedicar    [(9, 1), (36, 1), (123, 1), (177, 1), (187, 1)]   \n",
              "4  educação  [(3, 1), (18, 1), (32, 1), (37, 5), (87, 1), (...   \n",
              "5                                                                \n",
              "\n",
              "                         consulta resultado  \n",
              "1                                            \n",
              "2                                            \n",
              "3                                            \n",
              "4                                            \n",
              "5  governo busca dedicar educação        []  "
            ]
          },
          "metadata": {
            "tags": []
          },
          "execution_count": 32
        }
      ]
    }
  ]
}